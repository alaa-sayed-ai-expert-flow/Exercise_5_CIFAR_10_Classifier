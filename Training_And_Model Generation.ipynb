{
 "cells": [
  {
   "cell_type": "markdown",
   "id": "167990e2-e9e0-4a54-8ff1-206d82b04fe5",
   "metadata": {},
   "source": [
    "we will use the CIFAR10 dataset. It has the classes: ‘airplane’, ‘automobile’, ‘bird’, ‘cat’, ‘deer’, ‘dog’, ‘frog’, ‘horse’, ‘ship’, ‘truck’. The images in CIFAR-10 are of size 3x32x32, i.e. 3-channel color images of 32x32 pixels in size."
   ]
  },
  {
   "cell_type": "markdown",
   "id": "5f10b44c-bb6f-4386-b71c-0f1a16483472",
   "metadata": {},
   "source": [
    "# Import Packages"
   ]
  },
  {
   "cell_type": "code",
   "execution_count": 1,
   "id": "b856af6b-ce7f-4589-9e94-4274b76834f8",
   "metadata": {},
   "outputs": [],
   "source": [
    "import torch\n",
    "import torchvision\n",
    "import torchvision.transforms as transforms"
   ]
  },
  {
   "cell_type": "code",
   "execution_count": 7,
   "id": "b4504eb1-e928-489e-b62a-6ff0665534e2",
   "metadata": {},
   "outputs": [],
   "source": [
    "import matplotlib.pyplot as plt\n",
    "import numpy as np"
   ]
  },
  {
   "cell_type": "code",
   "execution_count": 10,
   "id": "6afdf682-b604-4507-bbb6-4ba6ad05c50e",
   "metadata": {},
   "outputs": [],
   "source": [
    "import torch.nn as nn\n",
    "import torch.nn.functional as F"
   ]
  },
  {
   "cell_type": "code",
   "execution_count": 12,
   "id": "50c32f6f-e995-4246-b217-e3f57e0c569c",
   "metadata": {},
   "outputs": [],
   "source": [
    "import torch.optim as optim"
   ]
  },
  {
   "cell_type": "markdown",
   "id": "b7b23608-13fc-4a17-b891-8a867cc82217",
   "metadata": {},
   "source": [
    "# Implementing Normalization on Dataset images"
   ]
  },
  {
   "cell_type": "code",
   "execution_count": 3,
   "id": "fdf7ad5d-8ad1-40e7-aff2-81e299fb77e6",
   "metadata": {},
   "outputs": [],
   "source": [
    "transform = transforms.Compose(\n",
    "    [transforms.ToTensor(),\n",
    "     transforms.Normalize((0.5, 0.5, 0.5), (0.5, 0.5, 0.5))])\n",
    "\n",
    "batch_size = 4"
   ]
  },
  {
   "cell_type": "markdown",
   "id": "46697e05-5a10-455a-8486-68d388493cec",
   "metadata": {},
   "source": [
    "# After Normalization Prepared .. Downloading Training set"
   ]
  },
  {
   "cell_type": "code",
   "execution_count": 4,
   "id": "6f22e36c-297c-4960-9551-b607c073267c",
   "metadata": {},
   "outputs": [
    {
     "name": "stdout",
     "output_type": "stream",
     "text": [
      "Downloading https://www.cs.toronto.edu/~kriz/cifar-10-python.tar.gz to ./data\\cifar-10-python.tar.gz\n"
     ]
    },
    {
     "name": "stderr",
     "output_type": "stream",
     "text": [
      "100%|██████████| 170498071/170498071 [01:41<00:00, 1687176.95it/s]\n"
     ]
    },
    {
     "name": "stdout",
     "output_type": "stream",
     "text": [
      "Extracting ./data\\cifar-10-python.tar.gz to ./data\n",
      "Files already downloaded and verified\n"
     ]
    }
   ],
   "source": [
    "trainset = torchvision.datasets.CIFAR10(root='./data', train=True,\n",
    "                                        download=True, transform=transform)"
   ]
  },
  {
   "cell_type": "markdown",
   "id": "5ca53b75-2a9a-4514-9dce-22ba1013c0d1",
   "metadata": {},
   "source": [
    "# Loading Training Datasets"
   ]
  },
  {
   "cell_type": "code",
   "execution_count": 5,
   "id": "ab7278ca-ac3a-4adf-af1a-3baf2f21dc42",
   "metadata": {},
   "outputs": [],
   "source": [
    "trainloader = torch.utils.data.DataLoader(trainset, batch_size=batch_size,\n",
    "                                          shuffle=True, num_workers=2)"
   ]
  },
  {
   "cell_type": "markdown",
   "id": "54686120-73d9-4eca-ac96-0fbde472dbbb",
   "metadata": {},
   "source": [
    "# Identify Classes of Our Dataset"
   ]
  },
  {
   "cell_type": "code",
   "execution_count": 6,
   "id": "ac58d3ab-b472-44b6-952c-ee73cac383e1",
   "metadata": {},
   "outputs": [],
   "source": [
    "classes = ('plane', 'car', 'bird', 'cat','deer', 'dog', 'frog', 'horse', 'ship', 'truck')"
   ]
  },
  {
   "cell_type": "markdown",
   "id": "90c8d121-a785-4da7-9aec-4e437ade8abc",
   "metadata": {},
   "source": [
    "# Checking our Training Image Sample"
   ]
  },
  {
   "cell_type": "code",
   "execution_count": 8,
   "id": "edc33ced-0fe1-4ec6-bf5b-f46f85196046",
   "metadata": {},
   "outputs": [],
   "source": [
    "def imshow(img):\n",
    "    img = img / 2 + 0.5     # unnormalize\n",
    "    npimg = img.numpy()\n",
    "    plt.imshow(np.transpose(npimg, (1, 2, 0)))\n",
    "    plt.show()"
   ]
  },
  {
   "cell_type": "code",
   "execution_count": 9,
   "id": "310bdb3a-5f34-49bd-9a1c-5a7f5a291ac2",
   "metadata": {},
   "outputs": [
    {
     "data": {
      "image/png": "[encoded data removed]",
      "text/plain": [
       "<Figure size 640x480 with 1 Axes>"
      ]
     },
     "metadata": {},
     "output_type": "display_data"
    },
    {
     "name": "stdout",
     "output_type": "stream",
     "text": [
      "car   car   ship  bird \n"
     ]
    }
   ],
   "source": [
    "# get some random training images\n",
    "dataiter = iter(trainloader)\n",
    "images, labels = next(dataiter)\n",
    "\n",
    "# show images\n",
    "imshow(torchvision.utils.make_grid(images))\n",
    "# print labels\n",
    "print(' '.join(f'{classes[labels[j]]:5s}' for j in range(batch_size)))"
   ]
  },
  {
   "cell_type": "markdown",
   "id": "612e20f8-6161-4f20-944d-b0c7a4541863",
   "metadata": {},
   "source": [
    "# Define a Convolutional Neural Network"
   ]
  },
  {
   "cell_type": "code",
   "execution_count": 11,
   "id": "25199f1c-f827-4328-a646-76a73b0db014",
   "metadata": {},
   "outputs": [],
   "source": [
    "class Net(nn.Module):\n",
    "    def __init__(self):\n",
    "        super().__init__()\n",
    "        self.conv1 = nn.Conv2d(3, 6, 5)\n",
    "        self.pool = nn.MaxPool2d(2, 2)\n",
    "        self.conv2 = nn.Conv2d(6, 16, 5)\n",
    "        self.fc1 = nn.Linear(16 * 5 * 5, 120)\n",
    "        self.fc2 = nn.Linear(120, 84)\n",
    "        self.fc3 = nn.Linear(84, 10)\n",
    "\n",
    "    def forward(self, x):\n",
    "        x = self.pool(F.relu(self.conv1(x)))\n",
    "        x = self.pool(F.relu(self.conv2(x)))\n",
    "        x = torch.flatten(x, 1) # flatten all dimensions except batch\n",
    "        x = F.relu(self.fc1(x))\n",
    "        x = F.relu(self.fc2(x))\n",
    "        x = self.fc3(x)\n",
    "        return x\n",
    "\n",
    "\n",
    "net = Net()"
   ]
  },
  {
   "cell_type": "markdown",
   "id": "1688930b-18a7-4ad7-a4c2-d0a316311c24",
   "metadata": {},
   "source": [
    "# Define a Loss function and optimizer"
   ]
  },
  {
   "cell_type": "code",
   "execution_count": 13,
   "id": "70559e48-236e-4588-9746-ade275b4b4cd",
   "metadata": {},
   "outputs": [],
   "source": [
    "criterion = nn.CrossEntropyLoss()\n",
    "optimizer = optim.SGD(net.parameters(), lr=0.001, momentum=0.9)"
   ]
  },
  {
   "cell_type": "markdown",
   "id": "0cc14dd2-e5e2-47d2-a9c0-5c2d0bc46d5e",
   "metadata": {},
   "source": [
    "# Train the network"
   ]
  },
  {
   "cell_type": "code",
   "execution_count": 14,
   "id": "e942577d-2e78-499a-9e63-c3794b051fb4",
   "metadata": {},
   "outputs": [
    {
     "name": "stdout",
     "output_type": "stream",
     "text": [
      "[1,  2000] loss: 2.208\n",
      "[1,  4000] loss: 1.879\n",
      "[1,  6000] loss: 1.687\n",
      "[1,  8000] loss: 1.572\n",
      "[1, 10000] loss: 1.521\n",
      "[1, 12000] loss: 1.471\n",
      "[2,  2000] loss: 1.413\n",
      "[2,  4000] loss: 1.389\n",
      "[2,  6000] loss: 1.369\n",
      "[2,  8000] loss: 1.371\n",
      "[2, 10000] loss: 1.343\n",
      "[2, 12000] loss: 1.329\n",
      "[3,  2000] loss: 1.245\n",
      "[3,  4000] loss: 1.264\n",
      "[3,  6000] loss: 1.259\n",
      "[3,  8000] loss: 1.227\n",
      "[3, 10000] loss: 1.216\n",
      "[3, 12000] loss: 1.233\n",
      "[4,  2000] loss: 1.136\n",
      "[4,  4000] loss: 1.152\n",
      "[4,  6000] loss: 1.163\n",
      "[4,  8000] loss: 1.155\n",
      "[4, 10000] loss: 1.154\n",
      "[4, 12000] loss: 1.130\n",
      "[5,  2000] loss: 1.069\n",
      "[5,  4000] loss: 1.068\n",
      "[5,  6000] loss: 1.072\n",
      "[5,  8000] loss: 1.088\n",
      "[5, 10000] loss: 1.078\n",
      "[5, 12000] loss: 1.052\n",
      "[6,  2000] loss: 0.995\n",
      "[6,  4000] loss: 0.998\n",
      "[6,  6000] loss: 1.015\n",
      "[6,  8000] loss: 1.019\n",
      "[6, 10000] loss: 1.034\n",
      "[6, 12000] loss: 1.025\n",
      "[7,  2000] loss: 0.942\n",
      "[7,  4000] loss: 0.946\n",
      "[7,  6000] loss: 0.976\n",
      "[7,  8000] loss: 0.996\n",
      "[7, 10000] loss: 0.980\n",
      "[7, 12000] loss: 0.976\n",
      "[8,  2000] loss: 0.885\n",
      "[8,  4000] loss: 0.917\n",
      "[8,  6000] loss: 0.935\n",
      "[8,  8000] loss: 0.943\n",
      "[8, 10000] loss: 0.926\n",
      "[8, 12000] loss: 0.955\n",
      "[9,  2000] loss: 0.838\n",
      "[9,  4000] loss: 0.858\n",
      "[9,  6000] loss: 0.886\n",
      "[9,  8000] loss: 0.900\n",
      "[9, 10000] loss: 0.923\n",
      "[9, 12000] loss: 0.913\n",
      "[10,  2000] loss: 0.817\n",
      "[10,  4000] loss: 0.835\n",
      "[10,  6000] loss: 0.871\n",
      "[10,  8000] loss: 0.866\n",
      "[10, 10000] loss: 0.891\n",
      "[10, 12000] loss: 0.880\n",
      "Finished Training\n"
     ]
    }
   ],
   "source": [
    "for epoch in range(10):  # loop over the dataset multiple times\n",
    "\n",
    "    running_loss = 0.0\n",
    "    for i, data in enumerate(trainloader, 0):\n",
    "        # get the inputs; data is a list of [inputs, labels]\n",
    "        inputs, labels = data\n",
    "\n",
    "        # zero the parameter gradients\n",
    "        optimizer.zero_grad()\n",
    "\n",
    "        # forward + backward + optimize\n",
    "        outputs = net(inputs)\n",
    "        loss = criterion(outputs, labels)\n",
    "        loss.backward()\n",
    "        optimizer.step()\n",
    "\n",
    "        # print statistics\n",
    "        running_loss += loss.item()\n",
    "        if i % 2000 == 1999:    # print every 2000 mini-batches\n",
    "            print(f'[{epoch + 1}, {i + 1:5d}] loss: {running_loss / 2000:.3f}')\n",
    "            running_loss = 0.0\n",
    "\n",
    "print('Finished Training')"
   ]
  },
  {
   "cell_type": "markdown",
   "id": "fd13ad57-7a06-46eb-acde-99aeaa9db4a9",
   "metadata": {},
   "source": [
    "# Saving the trained model using torch"
   ]
  },
  {
   "cell_type": "code",
   "execution_count": 15,
   "id": "12cbc31e-86e6-4333-a0de-5984ab53d07f",
   "metadata": {},
   "outputs": [],
   "source": [
    "PATH = './cifar_net.pth'\n",
    "torch.save(net.state_dict(), PATH)"
   ]
  }
 ],
 "metadata": {
  "kernelspec": {
   "display_name": "Python 3 (ipykernel)",
   "language": "python",
   "name": "python3"
  },
  "language_info": {
   "codemirror_mode": {
    "name": "ipython",
    "version": 3
   },
   "file_extension": ".py",
   "mimetype": "text/x-python",
   "name": "python",
   "nbconvert_exporter": "python",
   "pygments_lexer": "ipython3",
   "version": "3.10.14"
  }
 },
 "nbformat": 4,
 "nbformat_minor": 5
}
